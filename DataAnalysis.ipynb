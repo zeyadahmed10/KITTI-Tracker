{
 "cells": [
  {
   "cell_type": "code",
   "execution_count": 1,
   "id": "3ef7ea65",
   "metadata": {},
   "outputs": [],
   "source": [
    "import pandas as pd\n",
    "import numpy as np\n",
    "import seaborn as sns\n",
    "import matplotlib.pylab as plt"
   ]
  },
  {
   "cell_type": "code",
   "execution_count": 2,
   "id": "43b21e45",
   "metadata": {},
   "outputs": [
    {
     "data": {
      "text/html": [
       "<div>\n",
       "<style scoped>\n",
       "    .dataframe tbody tr th:only-of-type {\n",
       "        vertical-align: middle;\n",
       "    }\n",
       "\n",
       "    .dataframe tbody tr th {\n",
       "        vertical-align: top;\n",
       "    }\n",
       "\n",
       "    .dataframe thead th {\n",
       "        text-align: right;\n",
       "    }\n",
       "</style>\n",
       "<table border=\"1\" class=\"dataframe\">\n",
       "  <thead>\n",
       "    <tr style=\"text-align: right;\">\n",
       "      <th></th>\n",
       "      <th>Unnamed: 0</th>\n",
       "      <th>frame</th>\n",
       "      <th>track_id</th>\n",
       "      <th>type</th>\n",
       "      <th>truncated</th>\n",
       "      <th>occluded</th>\n",
       "      <th>alpha</th>\n",
       "      <th>left</th>\n",
       "      <th>top</th>\n",
       "      <th>right</th>\n",
       "      <th>bottom</th>\n",
       "      <th>dim1</th>\n",
       "      <th>dim2</th>\n",
       "      <th>dim3</th>\n",
       "      <th>loc1</th>\n",
       "      <th>loc2</th>\n",
       "      <th>loc3</th>\n",
       "      <th>rot_y</th>\n",
       "      <th>score</th>\n",
       "    </tr>\n",
       "  </thead>\n",
       "  <tbody>\n",
       "    <tr>\n",
       "      <th>0</th>\n",
       "      <td>0</td>\n",
       "      <td>000000_0000.png</td>\n",
       "      <td>-1</td>\n",
       "      <td>DontCare</td>\n",
       "      <td>-1</td>\n",
       "      <td>-1</td>\n",
       "      <td>-10.000000</td>\n",
       "      <td>219.310000</td>\n",
       "      <td>188.490000</td>\n",
       "      <td>245.500000</td>\n",
       "      <td>218.560000</td>\n",
       "      <td>-1000.000000</td>\n",
       "      <td>-1000.000000</td>\n",
       "      <td>-1000.000000</td>\n",
       "      <td>-10.000000</td>\n",
       "      <td>-1.000000</td>\n",
       "      <td>-1.000000</td>\n",
       "      <td>-1.000000</td>\n",
       "      <td>NaN</td>\n",
       "    </tr>\n",
       "    <tr>\n",
       "      <th>1</th>\n",
       "      <td>1</td>\n",
       "      <td>000000_0000.png</td>\n",
       "      <td>-1</td>\n",
       "      <td>DontCare</td>\n",
       "      <td>-1</td>\n",
       "      <td>-1</td>\n",
       "      <td>-10.000000</td>\n",
       "      <td>47.560000</td>\n",
       "      <td>195.280000</td>\n",
       "      <td>115.480000</td>\n",
       "      <td>221.480000</td>\n",
       "      <td>-1000.000000</td>\n",
       "      <td>-1000.000000</td>\n",
       "      <td>-1000.000000</td>\n",
       "      <td>-10.000000</td>\n",
       "      <td>-1.000000</td>\n",
       "      <td>-1.000000</td>\n",
       "      <td>-1.000000</td>\n",
       "      <td>NaN</td>\n",
       "    </tr>\n",
       "    <tr>\n",
       "      <th>2</th>\n",
       "      <td>2</td>\n",
       "      <td>000000_0000.png</td>\n",
       "      <td>0</td>\n",
       "      <td>Van</td>\n",
       "      <td>0</td>\n",
       "      <td>0</td>\n",
       "      <td>-1.793451</td>\n",
       "      <td>296.744956</td>\n",
       "      <td>161.752147</td>\n",
       "      <td>455.226042</td>\n",
       "      <td>292.372804</td>\n",
       "      <td>2.000000</td>\n",
       "      <td>1.823255</td>\n",
       "      <td>4.433886</td>\n",
       "      <td>-4.552284</td>\n",
       "      <td>1.858523</td>\n",
       "      <td>13.410495</td>\n",
       "      <td>-2.115488</td>\n",
       "      <td>NaN</td>\n",
       "    </tr>\n",
       "    <tr>\n",
       "      <th>3</th>\n",
       "      <td>3</td>\n",
       "      <td>000000_0000.png</td>\n",
       "      <td>1</td>\n",
       "      <td>Cyclist</td>\n",
       "      <td>0</td>\n",
       "      <td>0</td>\n",
       "      <td>-1.936993</td>\n",
       "      <td>737.619499</td>\n",
       "      <td>161.531951</td>\n",
       "      <td>931.112229</td>\n",
       "      <td>374.000000</td>\n",
       "      <td>1.739063</td>\n",
       "      <td>0.824591</td>\n",
       "      <td>1.785241</td>\n",
       "      <td>1.640400</td>\n",
       "      <td>1.675660</td>\n",
       "      <td>5.776261</td>\n",
       "      <td>-1.675458</td>\n",
       "      <td>NaN</td>\n",
       "    </tr>\n",
       "    <tr>\n",
       "      <th>4</th>\n",
       "      <td>4</td>\n",
       "      <td>000000_0000.png</td>\n",
       "      <td>2</td>\n",
       "      <td>Pedestrian</td>\n",
       "      <td>0</td>\n",
       "      <td>0</td>\n",
       "      <td>-2.523309</td>\n",
       "      <td>1106.137292</td>\n",
       "      <td>166.576807</td>\n",
       "      <td>1204.470628</td>\n",
       "      <td>323.876144</td>\n",
       "      <td>1.714062</td>\n",
       "      <td>0.767881</td>\n",
       "      <td>0.972283</td>\n",
       "      <td>6.301919</td>\n",
       "      <td>1.652419</td>\n",
       "      <td>8.455685</td>\n",
       "      <td>-1.900245</td>\n",
       "      <td>NaN</td>\n",
       "    </tr>\n",
       "  </tbody>\n",
       "</table>\n",
       "</div>"
      ],
      "text/plain": [
       "   Unnamed: 0            frame  track_id        type  truncated  occluded  \\\n",
       "0           0  000000_0000.png        -1    DontCare         -1        -1   \n",
       "1           1  000000_0000.png        -1    DontCare         -1        -1   \n",
       "2           2  000000_0000.png         0         Van          0         0   \n",
       "3           3  000000_0000.png         1     Cyclist          0         0   \n",
       "4           4  000000_0000.png         2  Pedestrian          0         0   \n",
       "\n",
       "       alpha         left         top        right      bottom         dim1  \\\n",
       "0 -10.000000   219.310000  188.490000   245.500000  218.560000 -1000.000000   \n",
       "1 -10.000000    47.560000  195.280000   115.480000  221.480000 -1000.000000   \n",
       "2  -1.793451   296.744956  161.752147   455.226042  292.372804     2.000000   \n",
       "3  -1.936993   737.619499  161.531951   931.112229  374.000000     1.739063   \n",
       "4  -2.523309  1106.137292  166.576807  1204.470628  323.876144     1.714062   \n",
       "\n",
       "          dim2         dim3       loc1      loc2       loc3     rot_y  score  \n",
       "0 -1000.000000 -1000.000000 -10.000000 -1.000000  -1.000000 -1.000000    NaN  \n",
       "1 -1000.000000 -1000.000000 -10.000000 -1.000000  -1.000000 -1.000000    NaN  \n",
       "2     1.823255     4.433886  -4.552284  1.858523  13.410495 -2.115488    NaN  \n",
       "3     0.824591     1.785241   1.640400  1.675660   5.776261 -1.675458    NaN  \n",
       "4     0.767881     0.972283   6.301919  1.652419   8.455685 -1.900245    NaN  "
      ]
     },
     "execution_count": 2,
     "metadata": {},
     "output_type": "execute_result"
    }
   ],
   "source": [
    "df = pd.read_csv('labels.csv')\n",
    "df.head()\n"
   ]
  },
  {
   "cell_type": "code",
   "execution_count": 3,
   "id": "308a6076",
   "metadata": {},
   "outputs": [
    {
     "data": {
      "text/plain": [
       "Index(['Unnamed: 0', 'frame', 'track_id', 'type', 'truncated', 'occluded',\n",
       "       'alpha', 'left', 'top', 'right', 'bottom', 'dim1', 'dim2', 'dim3',\n",
       "       'loc1', 'loc2', 'loc3', 'rot_y', 'score'],\n",
       "      dtype='object')"
      ]
     },
     "execution_count": 3,
     "metadata": {},
     "output_type": "execute_result"
    }
   ],
   "source": [
    "df.columns"
   ]
  },
  {
   "cell_type": "code",
   "execution_count": 4,
   "id": "257c79a6",
   "metadata": {},
   "outputs": [],
   "source": [
    "df = df.drop(columns=['Unnamed: 0'])"
   ]
  },
  {
   "cell_type": "code",
   "execution_count": 5,
   "id": "58873f86",
   "metadata": {},
   "outputs": [
    {
     "data": {
      "text/html": [
       "<div>\n",
       "<style scoped>\n",
       "    .dataframe tbody tr th:only-of-type {\n",
       "        vertical-align: middle;\n",
       "    }\n",
       "\n",
       "    .dataframe tbody tr th {\n",
       "        vertical-align: top;\n",
       "    }\n",
       "\n",
       "    .dataframe thead th {\n",
       "        text-align: right;\n",
       "    }\n",
       "</style>\n",
       "<table border=\"1\" class=\"dataframe\">\n",
       "  <thead>\n",
       "    <tr style=\"text-align: right;\">\n",
       "      <th></th>\n",
       "      <th>frame</th>\n",
       "      <th>track_id</th>\n",
       "      <th>type</th>\n",
       "      <th>truncated</th>\n",
       "      <th>occluded</th>\n",
       "      <th>alpha</th>\n",
       "      <th>left</th>\n",
       "      <th>top</th>\n",
       "      <th>right</th>\n",
       "      <th>bottom</th>\n",
       "      <th>dim1</th>\n",
       "      <th>dim2</th>\n",
       "      <th>dim3</th>\n",
       "      <th>loc1</th>\n",
       "      <th>loc2</th>\n",
       "      <th>loc3</th>\n",
       "      <th>rot_y</th>\n",
       "      <th>score</th>\n",
       "    </tr>\n",
       "  </thead>\n",
       "  <tbody>\n",
       "    <tr>\n",
       "      <th>0</th>\n",
       "      <td>000000_0000.png</td>\n",
       "      <td>-1</td>\n",
       "      <td>DontCare</td>\n",
       "      <td>-1</td>\n",
       "      <td>-1</td>\n",
       "      <td>-10.000000</td>\n",
       "      <td>219.310000</td>\n",
       "      <td>188.490000</td>\n",
       "      <td>245.500000</td>\n",
       "      <td>218.560000</td>\n",
       "      <td>-1000.000000</td>\n",
       "      <td>-1000.000000</td>\n",
       "      <td>-1000.000000</td>\n",
       "      <td>-10.000000</td>\n",
       "      <td>-1.000000</td>\n",
       "      <td>-1.000000</td>\n",
       "      <td>-1.000000</td>\n",
       "      <td>NaN</td>\n",
       "    </tr>\n",
       "    <tr>\n",
       "      <th>1</th>\n",
       "      <td>000000_0000.png</td>\n",
       "      <td>-1</td>\n",
       "      <td>DontCare</td>\n",
       "      <td>-1</td>\n",
       "      <td>-1</td>\n",
       "      <td>-10.000000</td>\n",
       "      <td>47.560000</td>\n",
       "      <td>195.280000</td>\n",
       "      <td>115.480000</td>\n",
       "      <td>221.480000</td>\n",
       "      <td>-1000.000000</td>\n",
       "      <td>-1000.000000</td>\n",
       "      <td>-1000.000000</td>\n",
       "      <td>-10.000000</td>\n",
       "      <td>-1.000000</td>\n",
       "      <td>-1.000000</td>\n",
       "      <td>-1.000000</td>\n",
       "      <td>NaN</td>\n",
       "    </tr>\n",
       "    <tr>\n",
       "      <th>2</th>\n",
       "      <td>000000_0000.png</td>\n",
       "      <td>0</td>\n",
       "      <td>Van</td>\n",
       "      <td>0</td>\n",
       "      <td>0</td>\n",
       "      <td>-1.793451</td>\n",
       "      <td>296.744956</td>\n",
       "      <td>161.752147</td>\n",
       "      <td>455.226042</td>\n",
       "      <td>292.372804</td>\n",
       "      <td>2.000000</td>\n",
       "      <td>1.823255</td>\n",
       "      <td>4.433886</td>\n",
       "      <td>-4.552284</td>\n",
       "      <td>1.858523</td>\n",
       "      <td>13.410495</td>\n",
       "      <td>-2.115488</td>\n",
       "      <td>NaN</td>\n",
       "    </tr>\n",
       "    <tr>\n",
       "      <th>3</th>\n",
       "      <td>000000_0000.png</td>\n",
       "      <td>1</td>\n",
       "      <td>Cyclist</td>\n",
       "      <td>0</td>\n",
       "      <td>0</td>\n",
       "      <td>-1.936993</td>\n",
       "      <td>737.619499</td>\n",
       "      <td>161.531951</td>\n",
       "      <td>931.112229</td>\n",
       "      <td>374.000000</td>\n",
       "      <td>1.739063</td>\n",
       "      <td>0.824591</td>\n",
       "      <td>1.785241</td>\n",
       "      <td>1.640400</td>\n",
       "      <td>1.675660</td>\n",
       "      <td>5.776261</td>\n",
       "      <td>-1.675458</td>\n",
       "      <td>NaN</td>\n",
       "    </tr>\n",
       "    <tr>\n",
       "      <th>4</th>\n",
       "      <td>000000_0000.png</td>\n",
       "      <td>2</td>\n",
       "      <td>Pedestrian</td>\n",
       "      <td>0</td>\n",
       "      <td>0</td>\n",
       "      <td>-2.523309</td>\n",
       "      <td>1106.137292</td>\n",
       "      <td>166.576807</td>\n",
       "      <td>1204.470628</td>\n",
       "      <td>323.876144</td>\n",
       "      <td>1.714062</td>\n",
       "      <td>0.767881</td>\n",
       "      <td>0.972283</td>\n",
       "      <td>6.301919</td>\n",
       "      <td>1.652419</td>\n",
       "      <td>8.455685</td>\n",
       "      <td>-1.900245</td>\n",
       "      <td>NaN</td>\n",
       "    </tr>\n",
       "  </tbody>\n",
       "</table>\n",
       "</div>"
      ],
      "text/plain": [
       "             frame  track_id        type  truncated  occluded      alpha  \\\n",
       "0  000000_0000.png        -1    DontCare         -1        -1 -10.000000   \n",
       "1  000000_0000.png        -1    DontCare         -1        -1 -10.000000   \n",
       "2  000000_0000.png         0         Van          0         0  -1.793451   \n",
       "3  000000_0000.png         1     Cyclist          0         0  -1.936993   \n",
       "4  000000_0000.png         2  Pedestrian          0         0  -2.523309   \n",
       "\n",
       "          left         top        right      bottom         dim1         dim2  \\\n",
       "0   219.310000  188.490000   245.500000  218.560000 -1000.000000 -1000.000000   \n",
       "1    47.560000  195.280000   115.480000  221.480000 -1000.000000 -1000.000000   \n",
       "2   296.744956  161.752147   455.226042  292.372804     2.000000     1.823255   \n",
       "3   737.619499  161.531951   931.112229  374.000000     1.739063     0.824591   \n",
       "4  1106.137292  166.576807  1204.470628  323.876144     1.714062     0.767881   \n",
       "\n",
       "          dim3       loc1      loc2       loc3     rot_y  score  \n",
       "0 -1000.000000 -10.000000 -1.000000  -1.000000 -1.000000    NaN  \n",
       "1 -1000.000000 -10.000000 -1.000000  -1.000000 -1.000000    NaN  \n",
       "2     4.433886  -4.552284  1.858523  13.410495 -2.115488    NaN  \n",
       "3     1.785241   1.640400  1.675660   5.776261 -1.675458    NaN  \n",
       "4     0.972283   6.301919  1.652419   8.455685 -1.900245    NaN  "
      ]
     },
     "execution_count": 5,
     "metadata": {},
     "output_type": "execute_result"
    }
   ],
   "source": [
    "df.head()"
   ]
  },
  {
   "cell_type": "code",
   "execution_count": 6,
   "id": "f58d2a47",
   "metadata": {},
   "outputs": [],
   "source": [
    "filt = (df['type']=='Car') | (df['type']=='Pedestrian')"
   ]
  },
  {
   "cell_type": "code",
   "execution_count": 7,
   "id": "158fcaed",
   "metadata": {},
   "outputs": [
    {
     "name": "stdout",
     "output_type": "stream",
     "text": [
      "number of frames in the dataset : 6112\n",
      "number of labeled frames: 6028\n",
      "number of unlabeled frames: 84\n",
      "number of frames that have pedestrian or car object: 5269\n"
     ]
    }
   ],
   "source": [
    "print('number of frames in the dataset :',6112) #len(os.listdir('det/images/train/'))+len(os.listdir('det/images/val/'))\n",
    "print('number of labeled frames:' ,len(df['frame'].unique()))\n",
    "print('number of unlabeled frames:', 6112-6028)\n",
    "print('number of frames that have pedestrian or car object:',len(df[filt]['frame'].unique()))"
   ]
  },
  {
   "cell_type": "code",
   "execution_count": 8,
   "id": "23c7c543",
   "metadata": {},
   "outputs": [
    {
     "name": "stdout",
     "output_type": "stream",
     "text": [
      "Class Type in the dataset: ['DontCare' 'Van' 'Cyclist' 'Pedestrian' 'Car' 'Truck' 'Misc' 'Tram'\n",
      " 'Person']\n"
     ]
    }
   ],
   "source": [
    "labels = df['type'].unique()\n",
    "print('Class Type in the dataset:',labels)"
   ]
  },
  {
   "cell_type": "code",
   "execution_count": 9,
   "id": "a8617e7f",
   "metadata": {},
   "outputs": [
    {
     "name": "stderr",
     "output_type": "stream",
     "text": [
      "C:\\Users\\Zeyad\\Anaconda3\\lib\\site-packages\\seaborn\\_decorators.py:36: FutureWarning: Pass the following variables as keyword args: x, y. From version 0.12, the only valid positional argument will be `data`, and passing other arguments without an explicit keyword will result in an error or misinterpretation.\n",
      "  warnings.warn(\n"
     ]
    },
    {
     "data": {
      "text/plain": [
       "<function matplotlib.pyplot.show(close=None, block=None)>"
      ]
     },
     "execution_count": 9,
     "metadata": {},
     "output_type": "execute_result"
    },
    {
     "data": {
      "image/png": "[encoded data removed]",
      "text/plain": [
       "<Figure size 648x432 with 1 Axes>"
      ]
     },
     "metadata": {
      "needs_background": "light"
     },
     "output_type": "display_data"
    }
   ],
   "source": [
    "class_freq = df['type'].value_counts()\n",
    "class_freq.index\n",
    "plt.figure(figsize=(9,6))\n",
    "#color = ['teal','green','yellow','purple','tomato','pink','mistyrose','springgreen','brown']\n",
    "fig1 = sns.barplot(class_freq.index, class_freq)\n",
    "plt.title('Object Frequency of Each Class')\n",
    "total = int(np.sum(class_freq))\n",
    "percentage = pd.DataFrame([int(x)/total for x in class_freq],columns =['percentage'],index = class_freq.index)\n",
    "plt.show\n"
   ]
  },
  {
   "cell_type": "code",
   "execution_count": 10,
   "id": "51fe6a50",
   "metadata": {},
   "outputs": [
    {
     "data": {
      "text/html": [
       "<div>\n",
       "<style scoped>\n",
       "    .dataframe tbody tr th:only-of-type {\n",
       "        vertical-align: middle;\n",
       "    }\n",
       "\n",
       "    .dataframe tbody tr th {\n",
       "        vertical-align: top;\n",
       "    }\n",
       "\n",
       "    .dataframe thead th {\n",
       "        text-align: right;\n",
       "    }\n",
       "</style>\n",
       "<table border=\"1\" class=\"dataframe\">\n",
       "  <thead>\n",
       "    <tr style=\"text-align: right;\">\n",
       "      <th></th>\n",
       "      <th>percentage</th>\n",
       "    </tr>\n",
       "  </thead>\n",
       "  <tbody>\n",
       "    <tr>\n",
       "      <th>Car</th>\n",
       "      <td>0.461726</td>\n",
       "    </tr>\n",
       "    <tr>\n",
       "      <th>DontCare</th>\n",
       "      <td>0.301285</td>\n",
       "    </tr>\n",
       "    <tr>\n",
       "      <th>Pedestrian</th>\n",
       "      <td>0.119037</td>\n",
       "    </tr>\n",
       "    <tr>\n",
       "      <th>Van</th>\n",
       "      <td>0.045407</td>\n",
       "    </tr>\n",
       "    <tr>\n",
       "      <th>Cyclist</th>\n",
       "      <td>0.036052</td>\n",
       "    </tr>\n",
       "    <tr>\n",
       "      <th>Truck</th>\n",
       "      <td>0.023091</td>\n",
       "    </tr>\n",
       "    <tr>\n",
       "      <th>Misc</th>\n",
       "      <td>0.005773</td>\n",
       "    </tr>\n",
       "    <tr>\n",
       "      <th>Tram</th>\n",
       "      <td>0.003937</td>\n",
       "    </tr>\n",
       "    <tr>\n",
       "      <th>Person</th>\n",
       "      <td>0.003694</td>\n",
       "    </tr>\n",
       "  </tbody>\n",
       "</table>\n",
       "</div>"
      ],
      "text/plain": [
       "            percentage\n",
       "Car           0.461726\n",
       "DontCare      0.301285\n",
       "Pedestrian    0.119037\n",
       "Van           0.045407\n",
       "Cyclist       0.036052\n",
       "Truck         0.023091\n",
       "Misc          0.005773\n",
       "Tram          0.003937\n",
       "Person        0.003694"
      ]
     },
     "execution_count": 10,
     "metadata": {},
     "output_type": "execute_result"
    }
   ],
   "source": [
    "percentage"
   ]
  },
  {
   "cell_type": "code",
   "execution_count": 11,
   "id": "b7eb8e22",
   "metadata": {},
   "outputs": [
    {
     "name": "stderr",
     "output_type": "stream",
     "text": [
      "C:\\Users\\Zeyad\\Anaconda3\\lib\\site-packages\\seaborn\\distributions.py:2557: FutureWarning: `distplot` is a deprecated function and will be removed in a future version. Please adapt your code to use either `displot` (a figure-level function with similar flexibility) or `histplot` (an axes-level function for histograms).\n",
      "  warnings.warn(msg, FutureWarning)\n"
     ]
    },
    {
     "data": {
      "text/plain": [
       "<AxesSubplot:title={'center':'Number of objects per frame frequency'}, ylabel='Density'>"
      ]
     },
     "execution_count": 11,
     "metadata": {},
     "output_type": "execute_result"
    },
    {
     "data": {
      "image/png": "[encoded data removed]",
      "text/plain": [
       "<Figure size 432x360 with 1 Axes>"
      ]
     },
     "metadata": {
      "needs_background": "light"
     },
     "output_type": "display_data"
    }
   ],
   "source": [
    "object_occur = sorted(df['frame'].value_counts())\n",
    "plt.figure(figsize = (6,5))\n",
    "plt.title('Number of objects per frame frequency')\n",
    "sns.distplot(object_occur)"
   ]
  }
 ],
 "metadata": {
  "kernelspec": {
   "display_name": "Python 3",
   "language": "python",
   "name": "python3"
  },
  "language_info": {
   "codemirror_mode": {
    "name": "ipython",
    "version": 3
   },
   "file_extension": ".py",
   "mimetype": "text/x-python",
   "name": "python",
   "nbconvert_exporter": "python",
   "pygments_lexer": "ipython3",
   "version": "3.8.8"
  }
 },
 "nbformat": 4,
 "nbformat_minor": 5
}
